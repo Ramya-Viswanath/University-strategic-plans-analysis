{
 "cells": [
  {
   "cell_type": "code",
   "execution_count": 8,
   "metadata": {},
   "outputs": [],
   "source": [
    "import pandas as pd\n",
    "import glob\n",
    "\n",
    "# Define the desired column order for the final CSV\n",
    "columns = ['qs_ranking', 'institution', 'focus', 'location', 'continent', 'year_established', 'private_public', 'type', 'strategy_start', 'strategy_end', 'filename', 'pdf']\n",
    "\n",
    "# Path to the directory where your CSV files are located\n",
    "path = 'data/'  # Corrected to include the slash\n",
    "all_files = glob.glob(path + \"*.csv\")\n",
    "\n",
    "# List to hold data from each CSV\n",
    "dataframes = []\n",
    "\n",
    "for filename in all_files:\n",
    "    try:\n",
    "        df = pd.read_csv(filename, usecols=columns)\n",
    "    except UnicodeDecodeError:\n",
    "        # If UTF-8 fails, try reading with a different encoding\n",
    "        try:\n",
    "            df = pd.read_csv(filename, usecols=columns, encoding='iso-8859-1')\n",
    "        except UnicodeDecodeError:\n",
    "            # If ISO-8859-1 also fails, you might want to try another common encoding or inspect the file for its encoding\n",
    "            print(f\"Could not read {filename} with UTF-8 or ISO-8859-1 encoding.\")\n",
    "            continue\n",
    "    dataframes.append(df)\n",
    "\n",
    "# Concatenate all DataFrames into one, aligning columns\n",
    "combined_csv = pd.concat(dataframes, axis=0, ignore_index=True)\n",
    "\n",
    "# Reordering the DataFrame according to the predefined columns list\n",
    "combined_csv = combined_csv[columns]\n",
    "\n",
    "# Save the combined DataFrame to a new CSV file\n",
    "combined_csv.to_csv(\"data/combined_csv.csv\", index=False)\n"
   ]
  },
  {
   "cell_type": "code",
   "execution_count": null,
   "metadata": {},
   "outputs": [],
   "source": []
  }
 ],
 "metadata": {
  "kernelspec": {
   "display_name": "Python 3",
   "language": "python",
   "name": "python3"
  },
  "language_info": {
   "codemirror_mode": {
    "name": "ipython",
    "version": 3
   },
   "file_extension": ".py",
   "mimetype": "text/x-python",
   "name": "python",
   "nbconvert_exporter": "python",
   "pygments_lexer": "ipython3",
   "version": "3.11.5"
  },
  "orig_nbformat": 4
 },
 "nbformat": 4,
 "nbformat_minor": 2
}
